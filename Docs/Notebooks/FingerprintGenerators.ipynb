{
 "cells": [
  {
   "cell_type": "markdown",
   "metadata": {},
   "source": [
    "# Fingerprint Generators"
   ]
  },
  {
   "cell_type": "markdown",
   "metadata": {},
   "source": [
    "## Creating and using a fingerprint generator\n",
    "\n",
    "Fingerprint generators can be created by using the functions that return the type of generator desired."
   ]
  },
  {
   "cell_type": "code",
   "execution_count": 1,
   "metadata": {},
   "outputs": [
    {
     "name": "stdout",
     "output_type": "stream",
     "text": [
      "{1592354: 1, 574497: 1, 574498: 1, 541731: 1, 590881: 1, 1590402: 1, 590945: 1, 1590401: 2, 1590370: 2, 590882: 1, 1590307: 3, 1590369: 1, 1590306: 3, 1592355: 2}\n"
     ]
    }
   ],
   "source": [
    "from rdkit import Chem\n",
    "from rdkit.Chem import rdFingerprintGenerator\n",
    "\n",
    "mol = Chem.MolFromSmiles('CC(O)C(O)(O)C')\n",
    "generator = rdFingerprintGenerator.GetAtomPairGenerator()\n",
    "fingerprint = generator.GetFingerprint(mol)\n",
    "non_zero = fingerprint.GetNonzeroElements()\n",
    "\n",
    "print non_zero"
   ]
  },
  {
   "cell_type": "markdown",
   "metadata": {},
   "source": [
    "We can set the parameters for the fingerprint while creating the generator for it."
   ]
  },
  {
   "cell_type": "code",
   "execution_count": 2,
   "metadata": {},
   "outputs": [
    {
     "name": "stdout",
     "output_type": "stream",
     "text": [
      "{1592354: 1, 574497: 1, 574498: 1, 590882: 1, 590881: 1, 1590402: 1, 590945: 1, 1590401: 2, 1590370: 2, 1590306: 3, 1590369: 1}\n"
     ]
    }
   ],
   "source": [
    "generator = rdFingerprintGenerator.GetAtomPairGenerator(minDistance = 1, maxDistance = 2, includeChirality = False)\n",
    "fingerprint = generator.GetFingerprint(mol)\n",
    "non_zero = fingerprint.GetNonzeroElements()\n",
    "\n",
    "print non_zero"
   ]
  },
  {
   "cell_type": "markdown",
   "metadata": {},
   "source": [
    "We can provide the molecule dependent arguments while creating the fingerprint."
   ]
  },
  {
   "cell_type": "code",
   "execution_count": 3,
   "metadata": {},
   "outputs": [
    {
     "name": "stdout",
     "output_type": "stream",
     "text": [
      "{574497: 1, 574498: 1, 1590370: 2, 1590369: 1, 590945: 1}\n",
      "{590881: 1, 590882: 1, 1590306: 2, 1590402: 1, 1590401: 1}\n"
     ]
    }
   ],
   "source": [
    "fingerprint = generator.GetFingerprint(mol, fromAtoms = [1])\n",
    "non_zero = fingerprint.GetNonzeroElements()\n",
    "\n",
    "print non_zero\n",
    "\n",
    "fingerprint = generator.GetFingerprint(mol, ignoreAtoms = [1, 5])\n",
    "non_zero = fingerprint.GetNonzeroElements()\n",
    "\n",
    "print non_zero"
   ]
  },
  {
   "cell_type": "markdown",
   "metadata": {},
   "source": [
    "## Types of fingerprint generators\n",
    "\n",
    "Currently 4 fingerprint types are supported by fingerprint generators"
   ]
  },
  {
   "cell_type": "code",
   "execution_count": 5,
   "metadata": {},
   "outputs": [
    {
     "name": "stdout",
     "output_type": "stream",
     "text": [
      "Atom pair {1592354: 1, 574497: 1, 574498: 1, 541731: 1, 590881: 1, 1590402: 1, 590945: 1, 1590401: 2, 1590370: 2, 590882: 1, 1590307: 3, 1590369: 1, 1590306: 3, 1592355: 2}\n",
      "Morgan {1741045729: 1, 1542633699: 1, 2246728737: 2, 2245273601: 1, 3537123720: 1, 864662311: 3, 2927183216: 1, 2245277810: 1, 1542631284: 2, 2782665878: 1, 3537119515: 1}\n",
      "RDKitFingerprint {1524090560: 6, 2911990635: 1, 1753257252: 1, 2332326087: 1, 4275705116: 3, 1636471275: 3, 4279989780: 2, 398441839: 4, 3743603664: 1, 3977409745: 3, 3768818763: 1, 3083228099: 1, 1606685044: 2, 1940446997: 2, 2880661462: 1, 3473416248: 3, 3060973103: 1, 623990427: 1, 561308092: 2, 4274652475: 3}\n",
      "TopologicalTorsion {4303897120: 1, 12893570080: 1, 12893831776: 2, 12893831712: 2}\n"
     ]
    }
   ],
   "source": [
    "generator = rdFingerprintGenerator.GetAtomPairGenerator()\n",
    "fingerprint = generator.GetFingerprint(mol)\n",
    "non_zero = fingerprint.GetNonzeroElements()\n",
    "\n",
    "print \"Atom pair\", non_zero\n",
    "\n",
    "generator = rdFingerprintGenerator.GetMorganGenerator(radius = 3)\n",
    "fingerprint = generator.GetFingerprint(mol)\n",
    "non_zero = fingerprint.GetNonzeroElements()\n",
    "\n",
    "print \"Morgan\", non_zero\n",
    "\n",
    "generator = rdFingerprintGenerator.GetRDKitFPGenerator()\n",
    "fingerprint = generator.GetFingerprint(mol)\n",
    "non_zero = fingerprint.GetNonzeroElements()\n",
    "\n",
    "print \"RDKitFingerprint\", non_zero\n",
    "\n",
    "generator = rdFingerprintGenerator.GetTopologicalTorsionGenerator()\n",
    "fingerprint = generator.GetFingerprint(mol)\n",
    "non_zero = fingerprint.GetNonzeroElements()\n",
    "\n",
    "print \"TopologicalTorsion\", non_zero"
   ]
  },
  {
   "cell_type": "markdown",
   "metadata": {},
   "source": [
    "## Invariant generators\n",
    "\n",
    "It is possible to use a custom invariant generators while creating fingerprints. Invariant generators provide values to be used as invariants for each atom or bond in the molecule and these values affect the generated fingerprint."
   ]
  },
  {
   "cell_type": "code",
   "execution_count": 6,
   "metadata": {},
   "outputs": [
    {
     "name": "stdout",
     "output_type": "stream",
     "text": [
      "RDKitFingerprint {4275705116: 2, 1940446997: 1}\n",
      "RDKitFingerprint {578931652: 1, 2298572045: 2}\n"
     ]
    }
   ],
   "source": [
    "simpleMol = Chem.MolFromSmiles('CCC')\n",
    "\n",
    "generator = rdFingerprintGenerator.GetRDKitFPGenerator()\n",
    "fingerprint = generator.GetFingerprint(simpleMol)\n",
    "non_zero = fingerprint.GetNonzeroElements()\n",
    "\n",
    "print \"RDKitFingerprint\", non_zero\n",
    "\n",
    "atomInvariantsGen = rdFingerprintGenerator.GetAtomPairAtomInvGen()\n",
    "\n",
    "generator = rdFingerprintGenerator.GetRDKitFPGenerator(atomInvariantsGenerator = atomInvariantsGen)\n",
    "fingerprint = generator.GetFingerprint(simpleMol)\n",
    "non_zero = fingerprint.GetNonzeroElements()\n",
    "\n",
    "print \"RDKitFingerprint\", non_zero"
   ]
  },
  {
   "cell_type": "markdown",
   "metadata": {},
   "source": [
    "Currently avaliable invariants generators are:"
   ]
  },
  {
   "cell_type": "code",
   "execution_count": 4,
   "metadata": {},
   "outputs": [
    {
     "name": "stdout",
     "output_type": "stream",
     "text": [
      "Morgan with AtomPairAtomInvGen {33: 2, 35: 1, 36: 1, 3205494725: 1, 2343097318: 1, 97: 3, 523835848: 1, 3205489706: 2, 3205489717: 1, 3205494778: 1, 618975071: 1}\n",
      "Morgan with MorganAtomInvGen {1741045729: 1, 1542633699: 1, 2246728737: 2, 2245273601: 1, 3537123720: 1, 864662311: 3, 2927183216: 1, 2245277810: 1, 1542631284: 2, 2782665878: 1, 3537119515: 1}\n",
      "Morgan with MorganFeatureAtomInvGen {0: 4, 3: 3, 3208860345: 1, 614176407: 1, 3205496825: 3, 792807483: 1, 3205495869: 2}\n",
      "Morgan with RDKitAtomInvGen {12: 4, 2705297134: 1, 16: 3, 165450225: 1, 608338133: 1, 3205493174: 2, 3205492925: 3}\n",
      "Morgan with MorganBondInvGen {1741045729: 1, 1542633699: 1, 2246728737: 2, 2245273601: 1, 3537123720: 1, 864662311: 3, 2927183216: 1, 2245277810: 1, 1542631284: 2, 2782665878: 1, 3537119515: 1}\n"
     ]
    }
   ],
   "source": [
    "atomInvariantsGen = rdFingerprintGenerator.GetAtomPairAtomInvGen()\n",
    "\n",
    "generator = rdFingerprintGenerator.GetMorganGenerator(radius = 3, atomInvariantsGenerator = atomInvariantsGen)\n",
    "fingerprint = generator.GetFingerprint(mol)\n",
    "non_zero = fingerprint.GetNonzeroElements()\n",
    "\n",
    "print \"Morgan with AtomPairAtomInvGen\", non_zero\n",
    "\n",
    "atomInvariantsGen = rdFingerprintGenerator.GetMorganAtomInvGen()\n",
    "\n",
    "generator = rdFingerprintGenerator.GetMorganGenerator(radius = 3, atomInvariantsGenerator = atomInvariantsGen)\n",
    "fingerprint = generator.GetFingerprint(mol)\n",
    "non_zero = fingerprint.GetNonzeroElements()\n",
    "\n",
    "# Default for Morgan FP\n",
    "print \"Morgan with MorganAtomInvGen\", non_zero\n",
    "\n",
    "atomInvariantsGen = rdFingerprintGenerator.GetMorganFeatureAtomInvGen()\n",
    "\n",
    "generator = rdFingerprintGenerator.GetMorganGenerator(radius = 3, atomInvariantsGenerator = atomInvariantsGen)\n",
    "fingerprint = generator.GetFingerprint(mol)\n",
    "non_zero = fingerprint.GetNonzeroElements()\n",
    "\n",
    "print \"Morgan with MorganFeatureAtomInvGen\", non_zero\n",
    "\n",
    "atomInvariantsGen = rdFingerprintGenerator.GetRDKitAtomInvGen()\n",
    "\n",
    "generator = rdFingerprintGenerator.GetMorganGenerator(radius = 3, atomInvariantsGenerator = atomInvariantsGen)\n",
    "fingerprint = generator.GetFingerprint(mol)\n",
    "non_zero = fingerprint.GetNonzeroElements()\n",
    "\n",
    "print \"Morgan with RDKitAtomInvGen\", non_zero\n",
    "\n",
    "bondInvariantsGen = rdFingerprintGenerator.GetMorganBondInvGen()\n",
    "\n",
    "generator = rdFingerprintGenerator.GetMorganGenerator(radius = 3, bondInvariantsGenerator = bondInvariantsGen)\n",
    "fingerprint = generator.GetFingerprint(mol)\n",
    "non_zero = fingerprint.GetNonzeroElements()\n",
    "\n",
    "# Default for Morgan FP\n",
    "print \"Morgan with MorganBondInvGen\", non_zero"
   ]
  },
  {
   "cell_type": "markdown",
   "metadata": {},
   "source": [
    "## Custom Invariants\n",
    "\n",
    "It is also possible to provide custom invariants instead of using a invariants generator"
   ]
  },
  {
   "cell_type": "code",
   "execution_count": 7,
   "metadata": {},
   "outputs": [
    {
     "name": "stdout",
     "output_type": "stream",
     "text": [
      "{558113: 2, 541730: 1}\n",
      "{16417: 2, 16418: 1}\n"
     ]
    }
   ],
   "source": [
    "\n",
    "generator = rdFingerprintGenerator.GetAtomPairGenerator()\n",
    "fingerprint = generator.GetFingerprint(simpleMol)\n",
    "non_zero = fingerprint.GetNonzeroElements()\n",
    "\n",
    "print non_zero\n",
    "\n",
    "customAtomInvariants = [1, 1, 1]\n",
    "fingerprint = generator.GetFingerprint(simpleMol, customAtomInvariants = customAtomInvariants)\n",
    "non_zero = fingerprint.GetNonzeroElements()\n",
    "\n",
    "print non_zero\n"
   ]
  },
  {
   "cell_type": "markdown",
   "metadata": {},
   "source": [
    "## Convenience functions"
   ]
  },
  {
   "cell_type": "markdown",
   "metadata": {},
   "source": [
    "## Bulk fingerprint"
   ]
  }
 ],
 "metadata": {
  "kernelspec": {
   "display_name": "Python 2",
   "language": "python",
   "name": "python2"
  },
  "language_info": {
   "codemirror_mode": {
    "name": "ipython",
    "version": 2
   },
   "file_extension": ".py",
   "mimetype": "text/x-python",
   "name": "python",
   "nbconvert_exporter": "python",
   "pygments_lexer": "ipython2",
   "version": "2.7.14"
  }
 },
 "nbformat": 4,
 "nbformat_minor": 2
}
